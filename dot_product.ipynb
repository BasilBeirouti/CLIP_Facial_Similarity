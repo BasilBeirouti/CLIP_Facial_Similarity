{
 "cells": [
  {
   "cell_type": "code",
   "execution_count": 51,
   "id": "a78df6a5-4dad-4223-a1d6-82ccc02e0c26",
   "metadata": {},
   "outputs": [
    {
     "data": {
      "text/plain": [
       "6.724447727203369"
      ]
     },
     "execution_count": 51,
     "metadata": {},
     "output_type": "execute_result"
    }
   ],
   "source": [
    "import torch\n",
    "import torch.nn as nn\n",
    "import torch.optim as optim\n",
    "import numpy as np\n",
    "\n",
    "# Parameters\n",
    "n = 10  # Length of each vector\n",
    "num_samples = 10000  # Number of samples for training\n",
    "num_test_samples = 1000  # Number of samples for testing\n",
    "\n",
    "# Data Generation Function\n",
    "def generate_data(num_samples, vector_length):\n",
    "    vectors_a = np.random.rand(num_samples, vector_length)\n",
    "    vectors_b = np.random.rand(num_samples, vector_length)\n",
    "    concatenated_vectors = np.concatenate((vectors_a, vectors_b), axis=1)\n",
    "    dot_products = np.einsum('ij,ij->i', vectors_a, vectors_b)\n",
    "    return torch.tensor(concatenated_vectors, dtype=torch.float32), torch.tensor(dot_products, dtype=torch.float32)\n",
    "\n",
    "# Neural Network Architecture\n",
    "class DotProductNN(nn.Module):\n",
    "    def __init__(self):\n",
    "        super(DotProductNN, self).__init__()\n",
    "        self.fc1 = nn.Linear(2 * n, 64)\n",
    "        self.fc2 = nn.Linear(64, 32)\n",
    "        self.fc3 = nn.Linear(32, 1)\n",
    "\n",
    "    def forward(self, x):\n",
    "        x = torch.relu(self.fc1(x))\n",
    "        x = torch.relu(self.fc2(x))\n",
    "        return self.fc3(x)\n",
    "\n",
    "# Instantiate model, loss function, and optimizer\n",
    "model = DotProductNN()\n",
    "criterion = nn.MSELoss()\n",
    "optimizer = optim.Adam(model.parameters(), lr=0.001)\n",
    "\n",
    "# Training Data\n",
    "X_train, y_train = generate_data(num_samples, n)\n",
    "\n",
    "# Training Loop\n",
    "for epoch in range(10):\n",
    "    optimizer.zero_grad()\n",
    "    outputs = model(X_train)\n",
    "    loss = criterion(outputs, y_train.view(-1, 1))\n",
    "    loss.backward()\n",
    "    optimizer.step()\n",
    "\n",
    "# Generate Test Data\n",
    "X_test, y_test = generate_data(num_test_samples, n)\n",
    "\n",
    "# Testing\n",
    "with torch.no_grad():\n",
    "    outputs_test = model(X_test)\n",
    "    test_loss = criterion(outputs_test, y_test.view(-1, 1))\n",
    "\n",
    "test_loss.item()\n"
   ]
  },
  {
   "cell_type": "code",
   "execution_count": 52,
   "id": "d2b16a2f-5495-423f-8f3b-3c1f09473f4e",
   "metadata": {},
   "outputs": [
    {
     "data": {
      "text/plain": [
       "(6.791478157043457, 0.21909284591674805)"
      ]
     },
     "execution_count": 52,
     "metadata": {},
     "output_type": "execute_result"
    }
   ],
   "source": [
    "# Re-instantiating the model and optimizer for a fresh start\n",
    "model = DotProductNN()\n",
    "optimizer = optim.Adam(model.parameters(), lr=0.001)\n",
    "\n",
    "# Generate Test Data (same as before)\n",
    "X_test, y_test = generate_data(num_test_samples, n)\n",
    "\n",
    "# Testing before training\n",
    "with torch.no_grad():\n",
    "    outputs_test_before = model(X_test)\n",
    "    test_loss_before = criterion(outputs_test_before, y_test.view(-1, 1))\n",
    "\n",
    "# Training Loop\n",
    "for epoch in range(100):\n",
    "    optimizer.zero_grad()\n",
    "    outputs = model(X_train)\n",
    "    loss = criterion(outputs, y_train.view(-1, 1))\n",
    "    loss.backward()\n",
    "    optimizer.step()\n",
    "\n",
    "# Testing after training\n",
    "with torch.no_grad():\n",
    "    outputs_test_after = model(X_test)\n",
    "    test_loss_after = criterion(outputs_test_after, y_test.view(-1, 1))\n",
    "\n",
    "test_loss_before.item(), test_loss_after.item()\n"
   ]
  },
  {
   "cell_type": "code",
   "execution_count": 60,
   "id": "f0e49b74-dd5c-46a9-99de-c8742e8c8408",
   "metadata": {},
   "outputs": [
    {
     "name": "stdout",
     "output_type": "stream",
     "text": [
      "expected  tensor(-2.9705)\n",
      "actual  tensor([[1.4193]], grad_fn=<AddmmBackward0>)\n"
     ]
    }
   ],
   "source": [
    "single_vector = torch.randn(20).unsqueeze(0)\n",
    "print(\"expected \", torch.dot(single_vector.squeeze()[:10], single_vector.squeeze()[10:]))\n",
    "print(\"actual \", model(single_vector))"
   ]
  },
  {
   "cell_type": "code",
   "execution_count": null,
   "id": "7b0efa61-1a7a-4e80-949c-9c77852cb826",
   "metadata": {},
   "outputs": [],
   "source": []
  }
 ],
 "metadata": {
  "kernelspec": {
   "display_name": "Python 3 (ipykernel)",
   "language": "python",
   "name": "python3"
  },
  "language_info": {
   "codemirror_mode": {
    "name": "ipython",
    "version": 3
   },
   "file_extension": ".py",
   "mimetype": "text/x-python",
   "name": "python",
   "nbconvert_exporter": "python",
   "pygments_lexer": "ipython3",
   "version": "3.11.3"
  }
 },
 "nbformat": 4,
 "nbformat_minor": 5
}
